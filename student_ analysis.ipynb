{
 "cells": [
  {
   "cell_type": "code",
   "execution_count": 2,
   "metadata": {},
   "outputs": [],
   "source": [
    "from azure.storage.blob import BlobServiceClient\n",
    "import pandas as pd\n",
    "\n",
    "# Define storage account credentials\n",
    "storage_account_name = 'studentdatasetedacw'\n",
    "storage_account_key = 'KnDT/xTdiGrIhj2xaYrxgSpjIYQIwbz0PTBb9RMUc37qUK50fq2coM2ObwlUgNKyabTX4HkmXuR6+ASt1sGdxg=='\n",
    "container_name = 'data-lake-container'\n",
    "blob_name = 'education_lka.csv'"
   ]
  },
  {
   "cell_type": "code",
   "execution_count": 3,
   "metadata": {},
   "outputs": [],
   "source": [
    "# Create a BlobServiceClient\n",
    "connection_string = f\"DefaultEndpointsProtocol=https;AccountName={storage_account_name};AccountKey={storage_account_key};EndpointSuffix=core.windows.net\"\n",
    "blob_service_client = BlobServiceClient.from_connection_string(connection_string)"
   ]
  },
  {
   "cell_type": "code",
   "execution_count": 4,
   "metadata": {},
   "outputs": [],
   "source": [
    "# Get the blob client\n",
    "blob_client = blob_service_client.get_blob_client(container=container_name, blob=blob_name)"
   ]
  },
  {
   "cell_type": "code",
   "execution_count": 5,
   "metadata": {},
   "outputs": [],
   "source": [
    "# Download the blob to a local file\n",
    "with open('local_file.csv', 'wb') as download_file:\n",
    "    download_file.write(blob_client.download_blob().readall())"
   ]
  },
  {
   "cell_type": "code",
   "execution_count": 6,
   "metadata": {},
   "outputs": [
    {
     "name": "stdout",
     "output_type": "stream",
     "text": [
      "    Country Name   Country ISO3        Year  \\\n",
      "0  #country+name  #country+code  #date+year   \n",
      "1      Sri Lanka            LKA        2010   \n",
      "2      Sri Lanka            LKA        2005   \n",
      "3      Sri Lanka            LKA        2000   \n",
      "4      Sri Lanka            LKA        1995   \n",
      "\n",
      "                                      Indicator Name       Indicator Code  \\\n",
      "0                                    #indicator+name      #indicator+code   \n",
      "1  Barro-Lee: Percentage of female population age...  BAR.NOED.1519.FE.ZS   \n",
      "2  Barro-Lee: Percentage of female population age...  BAR.NOED.1519.FE.ZS   \n",
      "3  Barro-Lee: Percentage of female population age...  BAR.NOED.1519.FE.ZS   \n",
      "4  Barro-Lee: Percentage of female population age...  BAR.NOED.1519.FE.ZS   \n",
      "\n",
      "                  Value  \n",
      "0  #indicator+value+num  \n",
      "1                  0.89  \n",
      "2                  2.05  \n",
      "3                     3  \n",
      "4                  2.05  \n",
      "<class 'pandas.core.frame.DataFrame'>\n",
      "RangeIndex: 15398 entries, 0 to 15397\n",
      "Data columns (total 6 columns):\n",
      " #   Column          Non-Null Count  Dtype \n",
      "---  ------          --------------  ----- \n",
      " 0   Country Name    15398 non-null  object\n",
      " 1   Country ISO3    15398 non-null  object\n",
      " 2   Year            15398 non-null  object\n",
      " 3   Indicator Name  15398 non-null  object\n",
      " 4   Indicator Code  15398 non-null  object\n",
      " 5   Value           15398 non-null  object\n",
      "dtypes: object(6)\n",
      "memory usage: 721.9+ KB\n",
      "None\n",
      "       Country Name Country ISO3   Year  \\\n",
      "count         15398        15398  15398   \n",
      "unique            2            2     65   \n",
      "top       Sri Lanka          LKA   2010   \n",
      "freq          15397        15397    774   \n",
      "\n",
      "                                       Indicator Name     Indicator Code  \\\n",
      "count                                           15398              15398   \n",
      "unique                                            841                841   \n",
      "top     Population ages 15-64 (% of total population)  SP.POP.1564.TO.ZS   \n",
      "freq                                               64                 64   \n",
      "\n",
      "        Value  \n",
      "count   15398  \n",
      "unique  12791  \n",
      "top         0  \n",
      "freq      159  \n"
     ]
    }
   ],
   "source": [
    "# Load the CSV file into a Pandas DataFrame\n",
    "df = pd.read_csv('local_file.csv')\n",
    "\n",
    "print(df.head())\n",
    "print(df.info())\n",
    "print(df.describe())"
   ]
  },
  {
   "cell_type": "code",
   "execution_count": null,
   "metadata": {},
   "outputs": [],
   "source": []
  }
 ],
 "metadata": {
  "kernelspec": {
   "display_name": "base",
   "language": "python",
   "name": "python3"
  },
  "language_info": {
   "codemirror_mode": {
    "name": "ipython",
    "version": 3
   },
   "file_extension": ".py",
   "mimetype": "text/x-python",
   "name": "python",
   "nbconvert_exporter": "python",
   "pygments_lexer": "ipython3",
   "version": "3.12.7"
  }
 },
 "nbformat": 4,
 "nbformat_minor": 2
}
